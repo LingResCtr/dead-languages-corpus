{
 "cells": [
  {
   "cell_type": "markdown",
   "id": "305b8846",
   "metadata": {},
   "source": [
    "This notebook is an effort to address this issue: https://github.com/LingResCtr/dead-languages-corpus/issues/2"
   ]
  },
  {
   "cell_type": "code",
   "execution_count": 1,
   "id": "39c958b3",
   "metadata": {},
   "outputs": [],
   "source": [
    "from pathlib import Path\n",
    "import sys\n",
    "sys.path.insert(0, \"../scripts\")\n",
    "\n",
    "temp_folder = Path(\"../intermediate/dead-languages-corpus-20221117\")"
   ]
  },
  {
   "cell_type": "markdown",
   "id": "409b7642",
   "metadata": {},
   "source": [
    "This notebook assumes you have already extracted the raw data to an intermediate location. If you have not, feel free to uncomment and run the following snippet."
   ]
  },
  {
   "cell_type": "code",
   "execution_count": 2,
   "id": "165dae25",
   "metadata": {},
   "outputs": [],
   "source": [
    "# from convert import extract\n",
    "# zip_path = Path(\"../raw/dead-languages-corpus-20221117.zip\")\n",
    "# extract(zip_path=zip_path, temp_folder=temp_folder)"
   ]
  },
  {
   "cell_type": "code",
   "execution_count": 4,
   "id": "26f79a2c",
   "metadata": {},
   "outputs": [],
   "source": [
    "from corpus import Gloss, load_corpus_part\n",
    "\n",
    "# gloss is a dict (which is insertion ordered by default), mapping gloss id to a Gloss object\n",
    "gloss = load_corpus_part(Gloss, temp_folder / \"eieol_gloss.csv\")"
   ]
  },
  {
   "cell_type": "code",
   "execution_count": 5,
   "id": "5de5d75e",
   "metadata": {},
   "outputs": [],
   "source": [
    "n_gloss = len(gloss)\n",
    "\n",
    "gloss_list = list(gloss.values())"
   ]
  },
  {
   "cell_type": "code",
   "execution_count": 16,
   "id": "3737ff22",
   "metadata": {},
   "outputs": [],
   "source": [
    "gloss_context = {}\n",
    "for i in range(n_gloss):\n",
    "    # if order is missing\n",
    "    if gloss_list[i].glossed_text_id is None:\n",
    "        # get the glosses just above and below this one\n",
    "        gloss_context[gloss_list[i].id] = gloss_list[max(0, i - 1):i + 2]"
   ]
  },
  {
   "cell_type": "code",
   "execution_count": 20,
   "id": "32ce6816",
   "metadata": {},
   "outputs": [
    {
     "name": "stdout",
     "output_type": "stream",
     "text": [
      "Gloss(id=88954, surface_form='távéd', contextual_gloss='your own', comments='The particle <span class=\"SanskExt\" lang=\"sa\">ít</span> stresses the previous word, here \\'your\\'.', underlying_form='táva ít', language_id=7, glossed_text_id=9140, order=80)\n",
      "Gloss(id=88955, surface_form='ít', contextual_gloss='own', comments=\" Stresses the previous word, here 'your'.\", underlying_form=None, language_id=7, glossed_text_id=None, order=None)\n",
      "Gloss(id=88956, surface_form='uṣo', contextual_gloss='O dawn', comments=None, underlying_form='uṣas', language_id=7, glossed_text_id=9140, order=100)\n"
     ]
    }
   ],
   "source": [
    "for gc in list(gloss_context.values())[0]:\n",
    "    print(gc)"
   ]
  },
  {
   "cell_type": "code",
   "execution_count": 17,
   "id": "1d72188f",
   "metadata": {},
   "outputs": [
    {
     "name": "stdout",
     "output_type": "stream",
     "text": [
      "153\n"
     ]
    }
   ],
   "source": [
    "# how many glosses are missing?\n",
    "print(len(gloss_context))"
   ]
  },
  {
   "cell_type": "code",
   "execution_count": 23,
   "id": "a39414fc",
   "metadata": {},
   "outputs": [
    {
     "name": "stdout",
     "output_type": "stream",
     "text": [
      "64\n"
     ]
    }
   ],
   "source": [
    "# how often does the glossed_text_id match above and below?\n",
    "matching_glossed_texts = {\n",
    "    gloss_id: glosses for gloss_id, glosses in gloss_context.items()\n",
    "    if (\n",
    "        len(glosses) == 3 and \n",
    "        glosses[0].glossed_text_id is not None and\n",
    "        glosses[0].glossed_text_id == glosses[2].glossed_text_id\n",
    "    )\n",
    "}\n",
    "print(len(matching_glossed_texts))"
   ]
  },
  {
   "cell_type": "code",
   "execution_count": 24,
   "id": "15a26688",
   "metadata": {},
   "outputs": [
    {
     "name": "stdout",
     "output_type": "stream",
     "text": [
      "25\n"
     ]
    }
   ],
   "source": [
    "# of those 64, how many have exactly 20 spaces between the first and last order?\n",
    "easy_order = {\n",
    "    gloss_id: glosses for gloss_id, glosses in matching_glossed_texts.items()\n",
    "    if (glosses[2].order - glosses[0].order) == 20\n",
    "}\n",
    "print(len(easy_order))"
   ]
  },
  {
   "cell_type": "code",
   "execution_count": 25,
   "id": "540179c7",
   "metadata": {},
   "outputs": [
    {
     "name": "stdout",
     "output_type": "stream",
     "text": [
      "Gloss(id=89068, surface_form='ā́dityāsa', contextual_gloss='Adityas', comments=None, underlying_form='ā́dityāsas', language_id=7, glossed_text_id=9152, order=50)\n",
      "Gloss(id=89069, surface_form='ámatim', contextual_gloss='lack of thought', comments=None, underlying_form=None, language_id=7, glossed_text_id=None, order=None)\n",
      "Gloss(id=89070, surface_form='ŕ̥dhag', contextual_gloss='on one side', comments=None, underlying_form='ŕ̥dhak', language_id=7, glossed_text_id=9152, order=80)\n"
     ]
    }
   ],
   "source": [
    "# that is lower than I had hoped. What do the ones who don't fit that description look like?\n",
    "for gloss_id, glosses in matching_glossed_texts.items():\n",
    "    if gloss_id not in easy_order:\n",
    "        for g in glosses:\n",
    "            print(g)\n",
    "        break"
   ]
  },
  {
   "cell_type": "code",
   "execution_count": 27,
   "id": "38543d6c",
   "metadata": {},
   "outputs": [
    {
     "data": {
      "text/plain": [
       "Gloss(id=111526, surface_form='utā́matim', contextual_gloss='and lack of thought', comments=None, underlying_form='utá ámatim', language_id=7, glossed_text_id=9152, order=60)"
      ]
     },
     "execution_count": 27,
     "metadata": {},
     "output_type": "execute_result"
    }
   ],
   "source": [
    "# Hmm. The actual word between those two is utā́matim which can be found in this gloss\n",
    "gloss[111526]"
   ]
  },
  {
   "cell_type": "code",
   "execution_count": 28,
   "id": "03ed2335",
   "metadata": {},
   "outputs": [
    {
     "name": "stdout",
     "output_type": "stream",
     "text": [
      "Gloss(id=88954, surface_form='távéd', contextual_gloss='your own', comments='The particle <span class=\"SanskExt\" lang=\"sa\">ít</span> stresses the previous word, here \\'your\\'.', underlying_form='táva ít', language_id=7, glossed_text_id=9140, order=80)\n",
      "Gloss(id=88955, surface_form='ít', contextual_gloss='own', comments=\" Stresses the previous word, here 'your'.\", underlying_form=None, language_id=7, glossed_text_id=None, order=None)\n",
      "Gloss(id=88956, surface_form='uṣo', contextual_gloss='O dawn', comments=None, underlying_form='uṣas', language_id=7, glossed_text_id=9140, order=100)\n"
     ]
    }
   ],
   "source": [
    "# spot checking some others\n",
    "for gloss_id, glosses in easy_order.items():\n",
    "    for g in glosses:\n",
    "        print(g)\n",
    "    break"
   ]
  },
  {
   "cell_type": "markdown",
   "id": "3b51d9f1",
   "metadata": {},
   "source": [
    "That word is not even in the glossed text.\n",
    "\n",
    "úd usríyāḥ sr̥jate sū́riyaḥ sácām̐ <br/>\n",
    "udyán nákṣatram arcivát <br/>\n",
    "távéd uṣo viúṣi sū́riyasya ca <br/>\n",
    "sám bhakténa gamemahi <br/><br/>"
   ]
  },
  {
   "cell_type": "markdown",
   "id": "225ddfed",
   "metadata": {},
   "source": [
    "Huzzah! It looks like all of these are errors that have been corrected in the data set already. We can just ignore any glosses that have `NULL` for `order` or `glossed_text_id`."
   ]
  }
 ],
 "metadata": {
  "kernelspec": {
   "display_name": "Python 3 (ipykernel)",
   "language": "python",
   "name": "python3"
  },
  "language_info": {
   "codemirror_mode": {
    "name": "ipython",
    "version": 3
   },
   "file_extension": ".py",
   "mimetype": "text/x-python",
   "name": "python",
   "nbconvert_exporter": "python",
   "pygments_lexer": "ipython3",
   "version": "3.10.8"
  }
 },
 "nbformat": 4,
 "nbformat_minor": 5
}
